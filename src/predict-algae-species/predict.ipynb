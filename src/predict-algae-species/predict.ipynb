{
 "cells": [
  {
   "cell_type": "markdown",
   "source": [
    "This is a simple notebook to predict algae cells based on our saved `unet` model.\n",
    "\n",
    "Again let's start by cloning the codebase:"
   ],
   "metadata": {
    "collapsed": false
   }
  },
  {
   "cell_type": "code",
   "execution_count": null,
   "outputs": [],
   "source": [
    "! git clone https://github.com/mahyar-osn/predict-algae-species.git"
   ],
   "metadata": {
    "collapsed": false,
    "pycharm": {
     "name": "#%%\n"
    }
   }
  },
  {
   "cell_type": "code",
   "execution_count": null,
   "outputs": [],
   "source": [
    "import sys\n",
    "sys.path.insert(0, '/content/ml-test/src/provectus-algae-task/prediction')\n",
    "import os"
   ],
   "metadata": {
    "collapsed": false,
    "pycharm": {
     "name": "#%%\n"
    }
   }
  },
  {
   "cell_type": "code",
   "execution_count": null,
   "outputs": [],
   "source": [
    "import core.config as config"
   ],
   "metadata": {
    "collapsed": false,
    "pycharm": {
     "name": "#%%\n"
    }
   }
  },
  {
   "cell_type": "code",
   "execution_count": null,
   "outputs": [],
   "source": [
    "import torch\n",
    "import cv2\n",
    "import numpy as np\n",
    "import matplotlib.pyplot as plt"
   ],
   "metadata": {
    "collapsed": false,
    "pycharm": {
     "name": "#%%\n"
    }
   }
  },
  {
   "cell_type": "code",
   "execution_count": null,
   "outputs": [],
   "source": [
    "from google.colab import drive\n",
    "drive.mount('/content/drive', force_remount=True)"
   ],
   "metadata": {
    "collapsed": false,
    "pycharm": {
     "name": "#%%\n"
    }
   }
  },
  {
   "cell_type": "code",
   "execution_count": null,
   "outputs": [],
   "source": [
    "def plot(orig_image, orig_annotations, pred_annotations):\n",
    "    figure, ax = plt.subplots(nrows=1, ncols=3, figsize=(10, 10))\n",
    "    ax[0].imshow(orig_image)\n",
    "    ax[1].imshow(orig_annotations)\n",
    "    ax[2].imshow(pred_annotations)\n",
    "    ax[0].set_title(\"Image\")\n",
    "    ax[1].set_title(\"Original Annotations\")\n",
    "    ax[2].set_title(\"Predicted Annotations\")\n",
    "    figure.tight_layout()\n",
    "    figure.show()"
   ],
   "metadata": {
    "collapsed": false,
    "pycharm": {
     "name": "#%%\n"
    }
   }
  },
  {
   "cell_type": "code",
   "execution_count": null,
   "outputs": [],
   "source": [
    "def make_predictions(model, image_path):\n",
    "    model.eval()  # set model to evaluation mode\n",
    "    with torch.no_grad():  # turn off gradient tracking\n",
    "        \"\"\" load the image from disk, swap its color channels, cast it\n",
    "        to float data type, and scale its pixel values. \"\"\"\n",
    "        image = cv2.imread(image_path)\n",
    "        image = cv2.cvtColor(image, cv2.COLOR_BGR2RGB)\n",
    "        image = image.astype(\"float32\") / 255.0\n",
    "\n",
    "        original = image.copy()\n",
    "        filename = image_path.split(\"/\")[-1]  # find the filename and generate the path to ground truth\n",
    "        filename, _ = os.path.splitext(filename)\n",
    "        ground_truth_path = os.path.join(config.MASK_DATASET_PATH,\n",
    "                                         filename + '.png')\n",
    "\n",
    "        \"\"\" load the ground-truth segmentation mask in grayscale mode and resize it. \"\"\"\n",
    "        gt_annotation = cv2.imread(ground_truth_path, 0)\n",
    "        gt_annotation = cv2.resize(gt_annotation, (config.INPUT_IMAGE_HEIGHT,\n",
    "                                                   config.INPUT_IMAGE_HEIGHT))\n",
    "\n",
    "        \"\"\" make the channel axis to be the leading one, add a batch dimension,\n",
    "        create a PyTorch tensor, and flash it to the current device. \"\"\"\n",
    "        image = np.transpose(image, (2, 0, 1))\n",
    "        image = np.expand_dims(image, 0)\n",
    "        image = torch.from_numpy(image).to(config.DEVICE)\n",
    "\n",
    "        \"\"\" make the prediction, pass the results through the sigmoid function,\n",
    "        and convert the result to a NumPy array. \"\"\"\n",
    "        prediction = model(image).squeeze()\n",
    "        prediction = torch.sigmoid(prediction)\n",
    "        prediction = prediction.cpu().numpy()\n",
    "        prediction = (prediction > 0.15) * 255  # filter out the weak predictions and convert them to integers\n",
    "        prediction = prediction.astype(np.uint8)\n",
    "        plot(original, gt_annotation, prediction)  # plot"
   ],
   "metadata": {
    "collapsed": false,
    "pycharm": {
     "name": "#%%\n"
    }
   }
  },
  {
   "cell_type": "markdown",
   "source": [
    "Let's try predicting the `Pp` strain cells:"
   ],
   "metadata": {
    "collapsed": false
   }
  },
  {
   "cell_type": "code",
   "execution_count": null,
   "outputs": [],
   "source": [
    "strain = 'Pp'\n",
    "print(\"[INFO] loading up test image paths...\")\n",
    "image_paths = open(config.TEST_PATHS).read().strip().split(\"\\n\")\n",
    "image_paths = [x for x in image_paths if strain in x]\n",
    "image_paths = np.random.choice(image_paths, size=4)\n",
    "print(\"[INFO] load up model...\")\n",
    "unet = torch.load(config.MODEL_PATH + '.{}'.format(strain), map_location=torch.device('cpu'))\n",
    "for path in image_paths:\n",
    "    make_predictions(unet, path)  # predict and visualise\n"
   ],
   "metadata": {
    "collapsed": false,
    "pycharm": {
     "name": "#%%\n"
    }
   }
  },
  {
   "cell_type": "markdown",
   "source": [
    "We can do the same thing for `Cr` strain cells:"
   ],
   "metadata": {
    "collapsed": false
   }
  },
  {
   "cell_type": "code",
   "execution_count": null,
   "outputs": [],
   "source": [
    "strain = 'Cr'\n",
    "print(\"[INFO] loading up test image paths...\")\n",
    "image_paths = open(config.TEST_PATHS).read().strip().split(\"\\n\")\n",
    "image_paths = [x for x in image_paths if strain in x]\n",
    "image_paths = np.random.choice(image_paths, size=4)\n",
    "print(\"[INFO] load up model...\")\n",
    "unet = torch.load(config.MODEL_PATH + '.{}'.format(strain), map_location=torch.device('cpu'))\n",
    "for path in image_paths:\n",
    "    make_predictions(unet, path)  # predict and visualise"
   ],
   "metadata": {
    "collapsed": false,
    "pycharm": {
     "name": "#%%\n"
    }
   }
  }
 ],
 "metadata": {
  "kernelspec": {
   "display_name": "Python 3",
   "language": "python",
   "name": "python3"
  },
  "language_info": {
   "codemirror_mode": {
    "name": "ipython",
    "version": 2
   },
   "file_extension": ".py",
   "mimetype": "text/x-python",
   "name": "python",
   "nbconvert_exporter": "python",
   "pygments_lexer": "ipython2",
   "version": "2.7.6"
  }
 },
 "nbformat": 4,
 "nbformat_minor": 0
}